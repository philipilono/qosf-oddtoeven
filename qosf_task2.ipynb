{
  "nbformat": 4,
  "nbformat_minor": 0,
  "metadata": {
    "colab": {
      "provenance": []
    },
    "kernelspec": {
      "name": "python3",
      "display_name": "Python 3"
    },
    "language_info": {
      "name": "python"
    }
  },
  "cells": [
    {
      "cell_type": "code",
      "execution_count": null,
      "metadata": {
        "id": "-EFLdOUH9NU5"
      },
      "outputs": [],
      "source": [
        "! pip install qiskit"
      ]
    },
    {
      "cell_type": "code",
      "source": [
        "from qiskit import QuantumCircuit, QuantumRegister, ClassicalRegister, transpile\n",
        "from qiskit.circuit.library import ZGate, GroverOperator, MCMT\n",
        "from qiskit.providers.basic_provider import BasicProvider\n",
        "import math\n"
      ],
      "metadata": {
        "id": "sIGIAL9tDtf9"
      },
      "execution_count": null,
      "outputs": []
    },
    {
      "cell_type": "code",
      "source": [
        "def oracle(marked, k):\n",
        "    \"\"\"Builds an oracle using Grover's algorithm to mark states\n",
        "        of odd numbers\n",
        "    Parameters:\n",
        "        marked (list): Marked States\n",
        "        k (int): Number of qubits to use\n",
        "\n",
        "    Returns:\n",
        "        QuantumCircuit: A quantum circuit\n",
        "    \"\"\"\n",
        "    circuit = QuantumCircuit(k)\n",
        "    lst = []\n",
        "\n",
        "    for target in marked:\n",
        "        flip_target = target[::-1]\n",
        "        if flip_target[1:] in lst:\n",
        "            continue\n",
        "        indices = [idx for idx, val in enumerate(flip_target) if val == \"0\" and idx != 0]\n",
        "\n",
        "        if not indices:\n",
        "          indices = [0, k-1]\n",
        "        # Add a multi-controlled Z-gate with pre- and post-applied X-gates (open-controls)\n",
        "        circuit.x(indices)\n",
        "        circuit.compose(MCMT(ZGate(), k - 1, 1), inplace=True)\n",
        "        circuit.x(indices)\n",
        "        lst.append(flip_target[1:])\n",
        "\n",
        "    return circuit\n",
        "\n",
        "def odd_to_even(n, lst):\n",
        "    \"\"\"\n",
        "    Quantum algorithm that when given numbers of range [1,n]\n",
        "    and are odd convert them into even numbers\n",
        "\n",
        "    Parameters:\n",
        "        n (int): threshold number\n",
        "        lst (list): List of numbers\n",
        "\n",
        "    Returns:\n",
        "        ans_list: A list where all numbers are even and in range [1, n]\n",
        "    \"\"\"\n",
        "    k = math.ceil(math.log2(n))\n",
        "\n",
        "    bin_marked = [bin(num)[2:].zfill(k) for num in lst]\n",
        "\n",
        "    prep_oracle = oracle(bin_marked, k)\n",
        "    # Count the number of multi-control z gate in the oracle.\n",
        "    num_marked = dict(prep_oracle.count_ops())[\"CCX\" if k==3 else f\"c{k-1}z\"]\n",
        "    grover = GroverOperator(prep_oracle)\n",
        "\n",
        "    # Determine the optimal number of iterations\n",
        "    iterations = max(1, math.floor(math.pi / (4 * math.asin(math.sqrt(5 / 2**grover.num_qubits)))))\n",
        "    circuit = QuantumCircuit(k)\n",
        "\n",
        "    # Create an even superposition of all basis states\n",
        "    circuit.h(range(grover.num_qubits))\n",
        "    # Apply Grover operator the optimal number of times\n",
        "    circuit.compose(grover.power(iterations), inplace=True)\n",
        "    circuit.measure_all()\n",
        "\n",
        "    backend = BasicProvider().get_backend('basic_simulator')\n",
        "    transpiled_circuit = transpile(circuit, backend)\n",
        "    counts = backend.run(transpiled_circuit, shots=10000).result().get_counts()\n",
        "\n",
        "    odd_numbers = sorted(counts, key=counts.get, reverse=True)[:num_marked]\n",
        "\n",
        "    odd_numbers = [int(i, 2) for i in odd_numbers]\n",
        "\n",
        "    # Delete 0 from the list since we have to remain within [1, n)\n",
        "    if 0 in odd_numbers:\n",
        "        odd_numbers.remove(0)\n",
        "\n",
        "    ans_list = []\n",
        "\n",
        "    for i in lst:\n",
        "        if i not in odd_numbers and i < n:\n",
        "            ans_list.append(i)\n",
        "        elif i+1 not in odd_numbers and i < n:\n",
        "            ans_list.append(i+1)\n",
        "        elif i-1 not in odd_numbers and i < n:\n",
        "            ans_list.append(i-1)\n",
        "        else:\n",
        "            ans_list.append(n-1)\n",
        "\n",
        "    return ans_list\n",
        "\n",
        "B = odd_to_even (n = 31,lst= [1,2,2,4,5,6,7,11,17,21,22,23] )\n",
        "print(B)"
      ],
      "metadata": {
        "colab": {
          "base_uri": "https://localhost:8080/"
        },
        "id": "Ey6snQk8yG-q",
        "outputId": "16b47e35-22c2-4d7e-ad56-deb3a260e283"
      },
      "execution_count": null,
      "outputs": [
        {
          "output_type": "stream",
          "name": "stdout",
          "text": [
            "[2, 2, 2, 4, 6, 6, 8, 12, 18, 22, 22, 24]\n"
          ]
        }
      ]
    }
  ]
}